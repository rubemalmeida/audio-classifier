{
  "cells": [
    {
      "cell_type": "markdown",
      "metadata": {
        "id": "introduction"
      },
      "source": [
        "# Whisper training for background sounds\n",
        "\n",
        "\n",
        "## Project sounds\n",
        "```\n",
        "sounds_folder/\n",
        "├── class1/\n",
        "│   ├── *.wav (audio file)\n",
        "├── class2/\n",
        "│   ├── *.wav (audio file)\n",
        "└── class3/\n",
        "    ├── *.wav (audio file)\n",
        "```\n"
      ]
    },
    {
      "cell_type": "markdown",
      "metadata": {
        "id": "setup"
      },
      "source": [
        "## 1. Environment Configuration\n",
        "\n",
        "Please install the requirements.txt"
      ]
    },
    {
      "cell_type": "markdown",
      "metadata": {
        "id": "data_preparation"
      },
      "source": [
        "## 2. Util"
      ]
    },
    {
      "cell_type": "markdown",
      "metadata": {
        "id": "dataset_class"
      },
      "source": [
        "### 2.1 Imports"
      ]
    },
    {
      "cell_type": "code",
      "execution_count": null,
      "metadata": {},
      "outputs": [],
      "source": [
        "import os\n",
        "import time\n",
        "import torch\n",
        "import librosa\n",
        "import numpy as np\n",
        "import pickle as pkl\n",
        "from torch.utils.data import Dataset, DataLoader\n",
        "from transformers import WhisperProcessor, WhisperForConditionalGeneration, logging\n",
        "from sklearn.model_selection import train_test_split\n",
        "\n",
        "logging.set_verbosity_error()"
      ]
    },
    {
      "cell_type": "markdown",
      "metadata": {},
      "source": [
        "### 2.2 Constants"
      ]
    },
    {
      "cell_type": "code",
      "execution_count": 15,
      "metadata": {},
      "outputs": [],
      "source": [
        "WHISPER_BASE_MODEL = \"openai/whisper-small\"\n",
        "AUDIO_TYPE = \".wav\"\n",
        "SAMPLING_RATE = 16000\n",
        "AUDIO_TIME_DURATION = 30\n",
        "TOKEN_MAX_LENGTH = 10\n",
        "DEVICE = torch.device(\"cuda\" if torch.cuda.is_available() else \"cpu\")"
      ]
    },
    {
      "cell_type": "markdown",
      "metadata": {},
      "source": [
        "### 2.3 Load audio and label list"
      ]
    },
    {
      "cell_type": "code",
      "execution_count": 3,
      "metadata": {},
      "outputs": [],
      "source": [
        "def load_audio_data(audio_dir):\n",
        "    audio_paths = []\n",
        "    labels = []\n",
        "    for root, _, files in os.walk(audio_dir):\n",
        "        for file in files:\n",
        "            if file.endswith(AUDIO_TYPE):\n",
        "                audio_paths.append(os.path.join(root, file))\n",
        "                label = os.path.basename(root)\n",
        "                labels.append(label)\n",
        "    return audio_paths, labels"
      ]
    },
    {
      "cell_type": "markdown",
      "metadata": {},
      "source": [
        "### 2.4 Librosa audio\n",
        "Returns the first 30 seg of the sound to be processed"
      ]
    },
    {
      "cell_type": "code",
      "execution_count": 4,
      "metadata": {},
      "outputs": [],
      "source": [
        "@staticmethod\n",
        "def get_audio(audio_path):\n",
        "    audio = None\n",
        "    if 'pkl' in audio_path:\n",
        "        with open(audio_path, \"rb\") as f:\n",
        "            audio = pkl.load(f)['Audio']\n",
        "    else:\n",
        "        audio, sr = librosa.load(audio_path, sr=SAMPLING_RATE)\n",
        "        \n",
        "    target_length = SAMPLING_RATE * AUDIO_TIME_DURATION\n",
        "    if len(audio) < target_length:\n",
        "        audio = np.pad(audio, (0, target_length - len(audio)))\n",
        "    else:\n",
        "        audio = audio[:target_length]\n",
        "    return audio\n"
      ]
    },
    {
      "cell_type": "markdown",
      "metadata": {},
      "source": [
        "### 2.5 Save Model"
      ]
    },
    {
      "cell_type": "code",
      "execution_count": 5,
      "metadata": {},
      "outputs": [],
      "source": [
        "def save_model(model, processor, dir_name):\n",
        "    model.save_pretrained(dir_name)\n",
        "    processor.save_pretrained(dir_name)"
      ]
    },
    {
      "cell_type": "markdown",
      "metadata": {},
      "source": [
        "## 3. Class Definition"
      ]
    },
    {
      "cell_type": "code",
      "execution_count": 6,
      "metadata": {
        "id": "dataset_implementation"
      },
      "outputs": [],
      "source": [
        "class DatasetClass(Dataset):\n",
        "    def __init__(self, audio_paths, labels, processor):\n",
        "        self.audio_paths = audio_paths\n",
        "        self.labels = labels\n",
        "        self.processor = processor\n",
        "\n",
        "    def __len__(self):\n",
        "        return len(self.audio_paths)\n",
        "    \n",
        "    def __getitem__(self, idx):\n",
        "        audio_path = self.audio_paths[idx]\n",
        "        label = self.labels[idx]\n",
        "            \n",
        "        inputs = self.processor(\n",
        "            get_audio(audio_path),\n",
        "            sampling_rate=SAMPLING_RATE,\n",
        "            return_tensors=\"pt\",\n",
        "            padding=True\n",
        "        )\n",
        "        \n",
        "        label_tokens = self.processor.tokenizer(\n",
        "            label,\n",
        "            padding=\"max_length\",\n",
        "            max_length=TOKEN_MAX_LENGTH,\n",
        "            truncation=True,\n",
        "            return_tensors=\"pt\"\n",
        "        )\n",
        "            \n",
        "        return {\n",
        "            \"input_features\": inputs.input_features[0],\n",
        "            \"labels\": label_tokens.input_ids[0]\n",
        "        }\n",
        "    \n",
        "    def get_audio_paths(self):\n",
        "        return self.audio_paths\n",
        "\n",
        "    def get_labels(self):\n",
        "        return self.labels\n"
      ]
    },
    {
      "cell_type": "markdown",
      "metadata": {},
      "source": [
        "## 4. Audio Classifier"
      ]
    },
    {
      "cell_type": "code",
      "execution_count": 7,
      "metadata": {},
      "outputs": [],
      "source": [
        "def transcribe_audio(audio_path, model, processor):\n",
        "    inputs = processor(\n",
        "            get_audio(audio_path),\n",
        "            sampling_rate=SAMPLING_RATE,\n",
        "            return_tensors=\"pt\"\n",
        "        ).to(DEVICE)\n",
        "    \n",
        "    with torch.no_grad():\n",
        "        outputs = model.generate(\n",
        "            inputs.input_features,\n",
        "            language=\"en\",\n",
        "            task=\"transcribe\",\n",
        "            use_cache=False\n",
        "        )\n",
        "    \n",
        "    transcription = processor.decode(outputs[0])\n",
        "    return transcription.replace(\"<|startoftranscript|>\", \"\")\\\n",
        "                              .replace(\"<|en|>\", \"\")\\\n",
        "                              .replace(\"<|transcribe|>\", \"\")\\\n",
        "                              .replace(\"<|notimestamps|>\", \"\")\\\n",
        "                              .strip()"
      ]
    },
    {
      "cell_type": "code",
      "execution_count": 8,
      "metadata": {},
      "outputs": [],
      "source": [
        "def check_transcription_for_label(audio_path, label, model, processor):\n",
        "    result = transcribe_audio(audio_path, model, processor)\n",
        "    labeled_correctly = label in result\n",
        "    #print(f\"File: {os.path.basename(audio_path)} \\t Correct({labeled_correctly}) -> Label({label}) == Transcription({result})\")\n",
        "    return labeled_correctly"
      ]
    },
    {
      "cell_type": "code",
      "execution_count": 9,
      "metadata": {},
      "outputs": [],
      "source": [
        "def classify_audios(audio_files, labels, model, processor):\n",
        "    correct_classification = 0\n",
        "    number_of_audio_files = len(audio_files)\n",
        "\n",
        "    if number_of_audio_files > 0:\n",
        "        for i, file_path in enumerate(audio_files):\n",
        "            correct_classification += check_transcription_for_label(file_path, labels[i], model, processor)\n",
        "            \n",
        "        accuracy_rate = (correct_classification / number_of_audio_files) * 100\n",
        "        print(f\"Accuracy rate: {accuracy_rate:.2f}% ({correct_classification}/{number_of_audio_files}) correct:{correct_classification} numFiles:{number_of_audio_files}\")\n",
        "    else:\n",
        "        print(\"No files .wav found.\")"
      ]
    },
    {
      "cell_type": "code",
      "execution_count": 10,
      "metadata": {},
      "outputs": [],
      "source": [
        "def classify_audio_folder(folter_path, model, processor):\n",
        "    audio_files, labels = load_audio_data(folter_path)\n",
        "    classify_audios(audio_files, labels, model, processor)"
      ]
    },
    {
      "cell_type": "code",
      "execution_count": 11,
      "metadata": {},
      "outputs": [],
      "source": [
        "def classify_audio_dataset(dataSet, model, processor):\n",
        "    audio_files = dataSet.get_audio_paths()\n",
        "    labels = dataSet.get_labels()\n",
        "    classify_audios(audio_files, labels, model, processor)"
      ]
    },
    {
      "cell_type": "markdown",
      "metadata": {
        "id": "training"
      },
      "source": [
        "## 5. Model training"
      ]
    },
    {
      "cell_type": "code",
      "execution_count": 12,
      "metadata": {},
      "outputs": [],
      "source": [
        "def train_whisper(model, dataloader, test_dataset, num_epochs=10, processor=None):\n",
        "    optimizer = torch.optim.AdamW(model.parameters(), lr=1e-5)\n",
        "\n",
        "    model.train()\n",
        "    for epoch in range(num_epochs):\n",
        "        start_time = time.time()\n",
        "        total_loss = 0\n",
        "        for batch in dataloader:\n",
        "            input_features = batch[\"input_features\"].to(DEVICE, non_blocking=True)\n",
        "            labels = batch[\"labels\"].to(DEVICE)\n",
        "\n",
        "            outputs = model(input_features=input_features, labels=labels)\n",
        "            loss = outputs.loss\n",
        "\n",
        "            optimizer.zero_grad()\n",
        "            loss.backward()\n",
        "            optimizer.step()\n",
        "\n",
        "            total_loss += loss.item()\n",
        "            print(f\"Item loss: {loss}\")\n",
        "\n",
        "        end_time = time.time()\n",
        "        classify_audio_dataset(test_dataset, model, processor)\n",
        "        print(f\"Epochs {epoch+1}/{num_epochs}, Loss: {total_loss/len(dataloader)}\")\n",
        "        print(f\"Epoch time: {end_time - start_time:.2f} seconds\\n\")\n",
        "\n",
        "    return total_loss / len(dataloader)"
      ]
    },
    {
      "cell_type": "markdown",
      "metadata": {},
      "source": [
        "## Analisys"
      ]
    },
    {
      "cell_type": "markdown",
      "metadata": {},
      "source": [
        "### Siren e traffic"
      ]
    },
    {
      "cell_type": "code",
      "execution_count": null,
      "metadata": {},
      "outputs": [],
      "source": [
        "AUDIO_DIR = \"sounds\"\n",
        "MODEL_OUTPUT_DIR = \"modelo_sirenes_completo\"\n",
        "NUM_EPOCHS = 10\n",
        "\n",
        "processor = WhisperProcessor.from_pretrained(WHISPER_BASE_MODEL)\n",
        "model = WhisperForConditionalGeneration.from_pretrained(WHISPER_BASE_MODEL)\n",
        "model.to(DEVICE)\n",
        "\n",
        "audio_paths, labels = load_audio_data(AUDIO_DIR)\n",
        "audio_paths_train, audio_paths_test, labels_train, labels_test = train_test_split(\n",
        "    audio_paths, labels, test_size=0.3, random_state=42\n",
        ")\n",
        "\n",
        "print(f\"Training audios: {audio_paths_train}\")\n",
        "print(f\"Training labels: {labels_train}\")\n",
        "print(f\"Test audios: {audio_paths_test}\")\n",
        "print(f\"Test labels: {labels_test}\")\n",
        "\n",
        "train_dataset = DatasetClass(audio_paths_train, labels_train, processor)\n",
        "train_dataloader = DataLoader(train_dataset, batch_size=1, shuffle=True, pin_memory=True)\n",
        "\n",
        "test_dataset = DatasetClass(audio_paths_test, labels_test, processor)\n",
        "test_dataloader = DataLoader(test_dataset, batch_size=1, shuffle=True, pin_memory=True)\n",
        "\n",
        "train_whisper(model, train_dataloader, test_dataset, NUM_EPOCHS, processor)\n",
        "\n",
        "classify_audio_folder(AUDIO_DIR, model, processor)\n",
        "\n",
        "save_model(model, processor, MODEL_OUTPUT_DIR)"
      ]
    },
    {
      "cell_type": "markdown",
      "metadata": {},
      "source": [
        "### Vehicle sounds filtred 300 each class"
      ]
    },
    {
      "cell_type": "code",
      "execution_count": null,
      "metadata": {},
      "outputs": [],
      "source": [
        "AUDIO_DIR = \"vehicleSoundsFiltred\"\n",
        "MODEL_OUTPUT_DIR = \"modelo_vehicle_filtred\"\n",
        "NUM_EPOCHS = 10\n",
        "\n",
        "processor = WhisperProcessor.from_pretrained(WHISPER_BASE_MODEL)\n",
        "model = WhisperForConditionalGeneration.from_pretrained(WHISPER_BASE_MODEL)\n",
        "model.to(DEVICE)\n",
        "\n",
        "audio_paths, labels = load_audio_data(AUDIO_DIR)\n",
        "audio_paths_train, audio_paths_test, labels_train, labels_test = train_test_split(\n",
        "    audio_paths, labels, test_size=0.3, random_state=42\n",
        ")\n",
        "\n",
        "print(f\"Training audios: {audio_paths_train}\")\n",
        "print(f\"Training labels: {labels_train}\")\n",
        "print(f\"Test audios: {audio_paths_test}\")\n",
        "print(f\"Test labels: {labels_test}\")\n",
        "\n",
        "train_dataset = DatasetClass(audio_paths_train, labels_train, processor)\n",
        "train_dataloader = DataLoader(train_dataset, batch_size=4, shuffle=True, pin_memory=False)\n",
        "\n",
        "test_dataset = DatasetClass(audio_paths_test, labels_test, processor)\n",
        "test_dataloader = DataLoader(test_dataset, batch_size=4, shuffle=True, pin_memory=True)\n",
        "\n",
        "train_whisper(model, train_dataloader, test_dataset, NUM_EPOCHS, processor)\n",
        "\n",
        "classify_audio_folder(AUDIO_DIR, model, processor)\n",
        "\n",
        "save_model(model, processor, MODEL_OUTPUT_DIR)"
      ]
    },
    {
      "cell_type": "markdown",
      "metadata": {},
      "source": [
        "### Samosa"
      ]
    },
    {
      "cell_type": "code",
      "execution_count": null,
      "metadata": {},
      "outputs": [],
      "source": [
        "AUDIO_DIR = \"TrainingDataset\"\n",
        "MODEL_OUTPUT_DIR = \"modelo_samosa\"\n",
        "NUM_EPOCHS = 10\n",
        "AUDIO_TYPE = \".pkl\"\n",
        "\n",
        "processor = WhisperProcessor.from_pretrained(WHISPER_BASE_MODEL)\n",
        "model = WhisperForConditionalGeneration.from_pretrained(WHISPER_BASE_MODEL)\n",
        "model.to(DEVICE)\n",
        "\n",
        "audio_paths, labels = load_audio_data(AUDIO_DIR)\n",
        "for i, path in enumerate(audio_paths):\n",
        "    labels[i] = path.rstrip(\".pkl\").split(\"---\")[2].replace('_', ' ')\n",
        "\n",
        "audio_paths_train, audio_paths_test, labels_train, labels_test = train_test_split(\n",
        "    audio_paths, labels, test_size=0.3, random_state=42\n",
        ")\n",
        "\n",
        "print(f\"Training audios: {audio_paths_train}\")\n",
        "print(f\"Training labels: {labels_train}\")\n",
        "print(f\"Test audios: {audio_paths_test}\")\n",
        "print(f\"Test labels: {labels_test}\")\n",
        "\n",
        "train_dataset = DatasetClass(audio_paths_train, labels_train, processor)\n",
        "train_dataloader = DataLoader(train_dataset, batch_size=8, shuffle=True, pin_memory=False)\n",
        "\n",
        "test_dataset = DatasetClass(audio_paths_test, labels_test, processor)\n",
        "test_dataloader = DataLoader(test_dataset, batch_size=8, shuffle=True, pin_memory=True)\n",
        "\n",
        "train_whisper(model, train_dataloader, test_dataset, NUM_EPOCHS, processor)\n",
        "\n",
        "classify_audio_folder(AUDIO_DIR, model, processor)\n",
        "\n",
        "save_model(model, processor, MODEL_OUTPUT_DIR)"
      ]
    },
    {
      "cell_type": "markdown",
      "metadata": {
        "id": "visualization"
      },
      "source": [
        "## 5. Spectrogram visualization\n",
        "\n",
        "To view the audio spectrogram:"
      ]
    },
    {
      "cell_type": "code",
      "execution_count": null,
      "metadata": {
        "id": "visualization_implementation"
      },
      "outputs": [],
      "source": [
        "import pylab\n",
        "import wave\n",
        "\n",
        "def visualizar_espectrograma(wav_file):\n",
        "    wav = wave.open(wav_file, 'r')\n",
        "    frames = wav.readframes(-1)\n",
        "    sound_info = pylab.fromstring(frames, 'int16')\n",
        "    frame_rate = wav.getframerate()\n",
        "    wav.close()\n",
        "    \n",
        "    pylab.figure(figsize=(10, 4))\n",
        "    pylab.specgram(sound_info, Fs=frame_rate)\n",
        "    pylab.xlabel('Tempo (s)')\n",
        "    pylab.ylabel('Frequência (Hz)')\n",
        "    pylab.colorbar(label='Intensidade (dB)')\n",
        "    pylab.title('Espectrograma do Áudio')\n",
        "    pylab.show()\n"
      ]
    }
  ],
  "metadata": {
    "colab": {
      "name": "Sirene_Classifier.ipynb",
      "private_outputs": true,
      "provenance": []
    },
    "kernelspec": {
      "display_name": "Python 3",
      "name": "python3"
    },
    "language_info": {
      "codemirror_mode": {
        "name": "ipython",
        "version": 3
      },
      "file_extension": ".py",
      "mimetype": "text/x-python",
      "name": "python",
      "nbconvert_exporter": "python",
      "pygments_lexer": "ipython3",
      "version": "3.11.9"
    }
  },
  "nbformat": 4,
  "nbformat_minor": 0
}
